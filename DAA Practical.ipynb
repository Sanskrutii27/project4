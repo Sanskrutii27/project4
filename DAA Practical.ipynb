{
 "cells": [
  {
   "cell_type": "code",
   "execution_count": 3,
   "id": "08a6498c",
   "metadata": {},
   "outputs": [
    {
     "name": "stdout",
     "output_type": "stream",
     "text": [
      "Enter First Number : 0\n",
      "Enter Second Number : 1\n",
      "Enter Number : 4\n",
      "0 1 1 2 "
     ]
    }
   ],
   "source": [
    "a = int(input(\"Enter First Number : \"))\n",
    "b = int(input(\"Enter Second Number : \"))\n",
    "n = int(input(\"Enter Number : \"))\n",
    "\n",
    "print(a,b,end=\" \")\n",
    "\n",
    "while(n-2):\n",
    "    c=a+b\n",
    "    a=b\n",
    "    b=c\n",
    "    print(c,end=\" \")\n",
    "    n=n-1"
   ]
  },
  {
   "cell_type": "code",
   "execution_count": 12,
   "id": "b2041ecd",
   "metadata": {},
   "outputs": [
    {
     "name": "stdout",
     "output_type": "stream",
     "text": [
      "start time : 1700563323.2310073\n",
      "end time : 1700563323.2310073\n",
      "Non-Recursive Fibonacci Result: 7778742049\n",
      "Time taken: 0.0 seconds\n"
     ]
    }
   ],
   "source": [
    "import time\n",
    "\n",
    "def fibonacci_non_recursive(n):\n",
    "    fib_series = [0, 1]\n",
    "    for i in range(2, n):\n",
    "        fib_series.append(fib_series[-1] + fib_series[-2])\n",
    "    return fib_series[-1]\n",
    "\n",
    "# Analyzing time complexity\n",
    "start_time = time.time()\n",
    "result = fibonacci_non_recursive(50)  # Change the value of n as needed\n",
    "end_time = time.time()\n",
    "print(\"start time :\" ,start_time)\n",
    "print(\"end time :\",end_time)\n",
    "print(f\"Non-Recursive Fibonacci Result: {result}\")\n",
    "print(f\"Time taken: {end_time - start_time} seconds\")"
   ]
  },
  {
   "cell_type": "code",
   "execution_count": 13,
   "id": "f114ad5c",
   "metadata": {},
   "outputs": [
    {
     "name": "stdout",
     "output_type": "stream",
     "text": [
      "start time : 1700563336.912162\n",
      "end time : 1700563337.7540495\n",
      "Recursive Fibonacci Result: 832040\n",
      "Time taken: 0.8418874740600586 seconds\n"
     ]
    }
   ],
   "source": [
    "import time\n",
    "\n",
    "def fibonacci_recursive(n):\n",
    "    if n <= 1:\n",
    "        return n\n",
    "    else:\n",
    "        return fibonacci_recursive(n - 1) + fibonacci_recursive(n - 2)\n",
    "\n",
    "# Analyzing time complexity\n",
    "start_time = time.time()\n",
    "result = fibonacci_recursive(30)  # Change the value of n as needed\n",
    "end_time = time.time()\n",
    "print(\"start time :\" ,start_time)\n",
    "print(\"end time :\",end_time)\n",
    "print(f\"Recursive Fibonacci Result: {result}\")\n",
    "print(f\"Time taken: {end_time - start_time} seconds\")\n"
   ]
  },
  {
   "cell_type": "code",
   "execution_count": 20,
   "id": "46eec944",
   "metadata": {},
   "outputs": [
    {
     "name": "stdout",
     "output_type": "stream",
     "text": [
      "Characters : [a, b, c, d, e, f]\n",
      "Frequency : [5, 9, 12, 13, 16, 45] \n",
      "\n",
      "Huffman Encoding:\n",
      "f -> \n",
      "c -> \n",
      "d -> \n",
      "a -> \n",
      "b -> \n",
      "e -> \n"
     ]
    }
   ],
   "source": [
    "class Node:\n",
    "    def __init__(self, freq, symbol, left=None, right=None):\n",
    "        self.freq = freq\n",
    "        self.symbol = symbol\n",
    "        self.left = left\n",
    "        self.right = right\n",
    "        # tree direction (0/1)\n",
    "        self.huff = \"\"\n",
    "\n",
    "def print_nodes(node, val=\"\"):\n",
    "    new_val = val + str(node.huff)\n",
    "    if node.left:\n",
    "        print_nodes(node.left, new_val)\n",
    "    if node.right:\n",
    "        print_nodes(node.right, new_val)\n",
    "    if not node.left and not node.right:\n",
    "        print(f\"{node.symbol} -> {new_val}\")\n",
    "\n",
    "chars = [\"a\", \"b\", \"c\", \"d\", \"e\", \"f\"]\n",
    "freq = [5, 9, 12, 13, 16, 45]\n",
    "\n",
    "nodes = [Node(freq[x], chars[x]) for x in range(len(chars))]\n",
    "\n",
    "while len(nodes) > 1:\n",
    "    nodes = sorted(nodes, key=lambda x: x.freq, reverse=True)\n",
    "    left = nodes.pop()\n",
    "    right = nodes.pop()\n",
    "\n",
    "    newNode = Node(left.freq + right.freq, left.symbol + right.symbol, left, right)\n",
    "    nodes.append(newNode)\n",
    "\n",
    "print(\"Characters :\", f'[{\", \".join(chars)}]')\n",
    "print(\"Frequency :\", freq, \"\\n\\nHuffman Encoding:\")\n",
    "print_nodes(nodes[0])\n"
   ]
  },
  {
   "cell_type": "code",
   "execution_count": 4,
   "id": "afa099b1",
   "metadata": {},
   "outputs": [
    {
     "name": "stdout",
     "output_type": "stream",
     "text": [
      "Maximum value in the knapsack: 240.0\n",
      "Selected items:\n",
      "Value: 60, Weight: 10, Fraction: 1.0\n",
      "Value: 100, Weight: 20, Fraction: 1.0\n",
      "Value: 120, Weight: 30, Fraction: 0.6666666666666666\n"
     ]
    }
   ],
   "source": [
    "def fractional_knapsack(items, capacity):\n",
    "    # Calculate the value-to-weight ratio for each item\n",
    "    value_per_weight = [(item[0] / item[1], item[0], item[1]) for item in items]\n",
    "    \n",
    "    # Sort items based on the value-to-weight ratio in descending order\n",
    "    value_per_weight.sort(reverse=True)\n",
    "    \n",
    "    total_value = 0\n",
    "    knapsack = []\n",
    "\n",
    "    for ratio, value, weight in value_per_weight:\n",
    "        if capacity == 0:\n",
    "            break\n",
    "\n",
    "        # Take the whole item if it fits\n",
    "        if weight <= capacity:\n",
    "            total_value += value\n",
    "            capacity -= weight\n",
    "            knapsack.append((value, weight, 1.0))  # Fraction of 1.0, as the whole item is taken\n",
    "        else:\n",
    "            # Take a fraction of the item if it doesn't fit completely\n",
    "            fraction = capacity / weight\n",
    "            total_value += fraction * value\n",
    "            knapsack.append((value, weight, fraction))\n",
    "            break\n",
    "\n",
    "    return total_value, knapsack\n",
    "\n",
    "# Example usage:\n",
    "items = [(60, 10), (100, 20), (120, 30)]\n",
    "knapsack_capacity = 50\n",
    "\n",
    "max_value, selected_items = fractional_knapsack(items, knapsack_capacity)\n",
    "\n",
    "print(f\"Maximum value in the knapsack: {max_value}\")\n",
    "print(\"Selected items:\")\n",
    "for value, weight, fraction in selected_items:\n",
    "    print(f\"Value: {value}, Weight: {weight}, Fraction: {fraction}\")"
   ]
  },
  {
   "cell_type": "code",
   "execution_count": 1,
   "id": "086d0d46",
   "metadata": {},
   "outputs": [
    {
     "name": "stdout",
     "output_type": "stream",
     "text": [
      "Maximum value: 65\n"
     ]
    }
   ],
   "source": [
    "def knapsack_01(weights, values, capacity):\n",
    "    n = len(weights)\n",
    "    dp = [0] * (capacity + 1)\n",
    "\n",
    "    for i in range(n):\n",
    "        for w in range(capacity, weights[i] - 1, -1):\n",
    "            dp[w] = max(dp[w], dp[w - weights[i]] + values[i])\n",
    "\n",
    "    return dp[capacity]\n",
    "\n",
    "# Example usage:\n",
    "weights = [1, 2, 3]\n",
    "values = [10, 15, 40]\n",
    "capacity = 6\n",
    "\n",
    "result = knapsack_01(weights, values, capacity)\n",
    "print(\"Maximum value:\", result)"
   ]
  },
  {
   "cell_type": "code",
   "execution_count": 2,
   "id": "91951c42",
   "metadata": {},
   "outputs": [
    {
     "name": "stdout",
     "output_type": "stream",
     "text": [
      "Maximum value: 65\n"
     ]
    }
   ],
   "source": [
    "def knapsack_01(weights, values, capacity):\n",
    "    n = len(weights)\n",
    "    dp = [[0] * (capacity + 1) for _ in range(n + 1)]\n",
    "\n",
    "    for i in range(1, n + 1):\n",
    "        for w in range(capacity + 1):\n",
    "            if weights[i - 1] <= w:\n",
    "                dp[i][w] = max(values[i - 1] + dp[i - 1][w - weights[i - 1]], dp[i - 1][w])\n",
    "            else:\n",
    "                dp[i][w] = dp[i - 1][w]\n",
    "\n",
    "    return dp[n][capacity]\n",
    "\n",
    "# Example usage:\n",
    "weights = [1, 2, 3]\n",
    "values = [10, 15, 40]\n",
    "capacity = 6\n",
    "\n",
    "result = knapsack_01(weights, values, capacity)\n",
    "print(\"Maximum value:\", result)"
   ]
  },
  {
   "cell_type": "code",
   "execution_count": 3,
   "id": "755f512a",
   "metadata": {},
   "outputs": [
    {
     "name": "stdout",
     "output_type": "stream",
     "text": [
      "Maximum value: 65\n"
     ]
    }
   ],
   "source": [
    "def knapsack(weights,capacity,values):\n",
    "    n = len(weights)\n",
    "    dp = [0] * (capacity + 1)\n",
    "    \n",
    "    for i in range(n):\n",
    "        for w in range(capacity,weights[i]-1,-1):\n",
    "            dp[w] = max(dp[w],dp[w-weights[i]] + values[i])\n",
    "    return dp[capacity]\n",
    "\n",
    "weights = [1, 2, 3]\n",
    "values = [10, 15, 40]\n",
    "capacity = 6\n",
    "\n",
    "result = knapsack_01(weights, values, capacity)\n",
    "print(\"Maximum value:\", result)"
   ]
  },
  {
   "cell_type": "code",
   "execution_count": 6,
   "id": "58342e8b",
   "metadata": {},
   "outputs": [
    {
     "name": "stdout",
     "output_type": "stream",
     "text": [
      "0 0 1 0 \n",
      "1 0 0 0 \n",
      "0 0 0 1 \n",
      "0 1 0 0 \n"
     ]
    },
    {
     "data": {
      "text/plain": [
       "True"
      ]
     },
     "execution_count": 6,
     "metadata": {},
     "output_type": "execute_result"
    }
   ],
   "source": [
    "# Python program to solve N Queen \n",
    "# Problem using backtracking\n",
    "\n",
    "global N\n",
    "N = 4\n",
    "\n",
    "def printSolution(board):\n",
    "\tfor i in range(N):\n",
    "\t\tfor j in range(N):\n",
    "\t\t\tprint (board[i][j],end=' ')\n",
    "\t\tprint()\n",
    "\n",
    "\n",
    "# A utility function to check if a queen can\n",
    "# be placed on board[row][col]. Note that this\n",
    "# function is called when \"col\" queens are\n",
    "# already placed in columns from 0 to col -1.\n",
    "# So we need to check only left side for\n",
    "# attacking queens\n",
    "def isSafe(board, row, col):\n",
    "\n",
    "\t# Check this row on left side\n",
    "\tfor i in range(col):\n",
    "\t\tif board[row][i] == 1:\n",
    "\t\t\treturn False\n",
    "\n",
    "\t# Check upper diagonal on left side\n",
    "\tfor i, j in zip(range(row, -1, -1), range(col, -1, -1)):\n",
    "\t\tif board[i][j] == 1:\n",
    "\t\t\treturn False\n",
    "\n",
    "\t# Check lower diagonal on left side\n",
    "\tfor i, j in zip(range(row, N, 1), range(col, -1, -1)):\n",
    "\t\tif board[i][j] == 1:\n",
    "\t\t\treturn False\n",
    "\n",
    "\treturn True\n",
    "\n",
    "def solveNQUtil(board, col):\n",
    "\t# base case: If all queens are placed\n",
    "\t# then return true\n",
    "\tif col >= N:\n",
    "\t\treturn True\n",
    "\n",
    "\t# Consider this column and try placing\n",
    "\t# this queen in all rows one by one\n",
    "\tfor i in range(N):\n",
    "\n",
    "\t\tif isSafe(board, i, col):\n",
    "\t\t\t# Place this queen in board[i][col]\n",
    "\t\t\tboard[i][col] = 1\n",
    "\n",
    "\t\t\t# recur to place rest of the queens\n",
    "\t\t\tif solveNQUtil(board, col + 1) == True:\n",
    "\t\t\t\treturn True\n",
    "\n",
    "\t\t\t# If placing queen in board[i][col\n",
    "\t\t\t# doesn't lead to a solution, then\n",
    "\t\t\t# queen from board[i][col]\n",
    "\t\t\tboard[i][col] = 0\n",
    "\n",
    "\t# if the queen can not be placed in any row in\n",
    "\t# this column col then return false\n",
    "\treturn False\n",
    "\n",
    "# This function solves the N Queen problem using\n",
    "# Backtracking. It mainly uses solveNQUtil() to\n",
    "# solve the problem. It returns false if queens\n",
    "# cannot be placed, otherwise return true and\n",
    "# placement of queens in the form of 1s.\n",
    "# note that there may be more than one\n",
    "# solutions, this function prints one of the\n",
    "# feasible solutions.\n",
    "def solveNQ():\n",
    "\tboard = [ [0, 0, 0, 0],\n",
    "\t\t\t[0, 0, 0, 0],\n",
    "\t\t\t[0, 0, 0, 0],\n",
    "\t\t\t[0, 0, 0, 0]\n",
    "\t\t\t]\n",
    "\n",
    "\tif solveNQUtil(board, 0) == False:\n",
    "\t\tprint (\"Solution does not exist\")\n",
    "\t\treturn False\n",
    "\n",
    "\tprintSolution(board)\n",
    "\treturn True\n",
    "\n",
    "# driver program to test above function\n",
    "solveNQ()\n",
    "\n",
    "# This code is contributed by Divyanshu Mehta\n"
   ]
  },
  {
   "cell_type": "code",
   "execution_count": null,
   "id": "0364231c",
   "metadata": {},
   "outputs": [],
   "source": []
  }
 ],
 "metadata": {
  "kernelspec": {
   "display_name": "Python 3 (ipykernel)",
   "language": "python",
   "name": "python3"
  },
  "language_info": {
   "codemirror_mode": {
    "name": "ipython",
    "version": 3
   },
   "file_extension": ".py",
   "mimetype": "text/x-python",
   "name": "python",
   "nbconvert_exporter": "python",
   "pygments_lexer": "ipython3",
   "version": "3.10.9"
  }
 },
 "nbformat": 4,
 "nbformat_minor": 5
}
